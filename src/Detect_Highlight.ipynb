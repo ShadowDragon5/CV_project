{
 "cells": [
  {
   "cell_type": "code",
   "execution_count": 2,
   "id": "43a9507e-30b4-486a-9635-d037cf8eb127",
   "metadata": {},
   "outputs": [],
   "source": [
    "import cv2\n",
    "import numpy as np"
   ]
  },
  {
   "cell_type": "code",
   "execution_count": 3,
   "id": "e8e518c0-f39a-41aa-a1b6-a14576451fb2",
   "metadata": {},
   "outputs": [],
   "source": [
    "SHOW_TIMER = 1000"
   ]
  },
  {
   "cell_type": "code",
   "execution_count": 4,
   "id": "4dedee66-2f3e-438a-8b51-e3f5d61f9abf",
   "metadata": {},
   "outputs": [],
   "source": [
    "frame = cv2.imread(\"../frames/masked_frame.png\")\n",
    "hsv_frame = cv2.cvtColor(frame, cv2.COLOR_RGB2HSV)"
   ]
  },
  {
   "cell_type": "code",
   "execution_count": 5,
   "id": "b1b50106-2f1b-4412-bcc2-58b051899f70",
   "metadata": {},
   "outputs": [],
   "source": [
    "cv2.imshow(\"frame\", frame)\n",
    "cv2.waitKey(SHOW_TIMER)\n",
    "cv2.destroyAllWindows()"
   ]
  },
  {
   "cell_type": "code",
   "execution_count": 6,
   "id": "5008b82e-0250-4297-a05e-b617303146f5",
   "metadata": {},
   "outputs": [],
   "source": [
    "cv2.imshow(\"Vue\", hsv_frame[:,:,2])\n",
    "cv2.waitKey(0)\n",
    "cv2.destroyAllWindows() "
   ]
  },
  {
   "cell_type": "code",
   "execution_count": 7,
   "id": "67222294-37a0-47d1-8505-2aa15d7e45fc",
   "metadata": {},
   "outputs": [],
   "source": [
    "cv2.imshow(\"Saturation\", hsv_frame[:,:,1])\n",
    "cv2.waitKey(0)\n",
    "cv2.destroyAllWindows() "
   ]
  },
  {
   "cell_type": "code",
   "execution_count": 8,
   "id": "5c53584e-0cb0-4105-8874-f135350acdee",
   "metadata": {},
   "outputs": [],
   "source": [
    "cv2.imshow(\"Hue\", hsv_frame[:,:,0])\n",
    "cv2.waitKey(0)\n",
    "cv2.destroyAllWindows() "
   ]
  },
  {
   "cell_type": "code",
   "execution_count": 9,
   "id": "f848e845-063d-47d8-b6cb-d1fd1a7c9814",
   "metadata": {},
   "outputs": [],
   "source": [
    "COLORS = [\"blue\", \"red\", \"pink\", \"brown\"]"
   ]
  },
  {
   "cell_type": "code",
   "execution_count": 10,
   "id": "4839f727-40df-4086-88a9-d83cef013807",
   "metadata": {},
   "outputs": [],
   "source": [
    "MAX_BLUE = (25, 255, 255)\n",
    "MIN_BLUE = (10, 0, 30)\n",
    "mask_blue = cv2.inRange(hsv_frame, MIN_BLUE, MAX_BLUE) # "
   ]
  },
  {
   "cell_type": "code",
   "execution_count": 11,
   "id": "70024367-9849-440a-b061-3fd852a4644b",
   "metadata": {},
   "outputs": [],
   "source": [
    "cv2.imshow(\"mask blue\", mask_blue) \n",
    "cv2.waitKey(0)\n",
    "cv2.destroyAllWindows()"
   ]
  },
  {
   "cell_type": "code",
   "execution_count": 12,
   "id": "51cdf31a-001a-4bc0-8677-5d425c1e9a41",
   "metadata": {},
   "outputs": [],
   "source": [
    "MAX_RED = (130, 255, 200)\n",
    "MIN_RED = (110, 0, 0)\n",
    "mask_red = cv2.inRange(hsv_frame, MIN_RED, MAX_RED) #"
   ]
  },
  {
   "cell_type": "code",
   "execution_count": 13,
   "id": "c65ee70d-e0e8-4525-9208-0c626bfd7c06",
   "metadata": {},
   "outputs": [],
   "source": [
    "cv2.imshow(\"mask red\", mask_red) \n",
    "cv2.waitKey(0)\n",
    "cv2.destroyAllWindows()"
   ]
  },
  {
   "cell_type": "code",
   "execution_count": 14,
   "id": "eb614e90-0167-4cd2-95e7-92617af525b2",
   "metadata": {},
   "outputs": [],
   "source": [
    "MAX_PINK = (130, 255, 255)\n",
    "MIN_PINK = (110, 0, 200)\n",
    "mask_pink = cv2.inRange(hsv_frame, MIN_PINK, MAX_PINK) # TODO SELECT LARGEST PATCH"
   ]
  },
  {
   "cell_type": "code",
   "execution_count": 15,
   "id": "e44fe481-86c3-4538-a0c1-741c7a2e662e",
   "metadata": {},
   "outputs": [],
   "source": [
    "cv2.imshow(\"mask pink\", mask_pink) \n",
    "cv2.waitKey(0)\n",
    "cv2.destroyAllWindows()"
   ]
  },
  {
   "cell_type": "code",
   "execution_count": 16,
   "id": "48222c5f-3895-4839-9cfc-cdf36d89728b",
   "metadata": {},
   "outputs": [],
   "source": [
    "MAX_BROWN = (110, 255, 150)\n",
    "MIN_BROWN = (90, 0, 0)\n",
    "mask_brown = cv2.inRange(hsv_frame, MIN_BROWN, MAX_BROWN) # TODO SELECT LARGEST PATCH OR OTHER FIX"
   ]
  },
  {
   "cell_type": "code",
   "execution_count": 17,
   "id": "0b60e51d-c466-41e5-8373-555353538120",
   "metadata": {},
   "outputs": [],
   "source": [
    "cv2.imshow(\"mask brown\", mask_brown) \n",
    "cv2.waitKey(0)\n",
    "cv2.destroyAllWindows()"
   ]
  },
  {
   "cell_type": "code",
   "execution_count": 18,
   "id": "99dc6cf2-c88a-4115-b4a2-6cb6e831aa6b",
   "metadata": {},
   "outputs": [],
   "source": [
    "MAX_YELLOW = (100, 255, 255)\n",
    "MIN_YELLOW = (90, 0, 150)\n",
    "mask_yellow = cv2.inRange(hsv_frame, MIN_YELLOW, MAX_YELLOW) # TODO SELECT LARGEST PATCH"
   ]
  },
  {
   "cell_type": "code",
   "execution_count": 19,
   "id": "eaf4524b-83dd-4371-ab9a-117f057e902e",
   "metadata": {},
   "outputs": [],
   "source": [
    "cv2.imshow(\"mask yellow\", mask_yellow) \n",
    "cv2.waitKey(0)\n",
    "cv2.destroyAllWindows()"
   ]
  },
  {
   "cell_type": "code",
   "execution_count": 20,
   "id": "1e9914cb-fe2d-48bc-a64d-3baf422f92c7",
   "metadata": {},
   "outputs": [],
   "source": [
    "MAX_GREEN = (50, 255, 255)\n",
    "MIN_GREEN = (30, 0, 0)\n",
    "mask_green = cv2.inRange(hsv_frame, MIN_GREEN, MAX_GREEN) # TODO SELECT LARGEST PATCH OR OTHER FIX"
   ]
  },
  {
   "cell_type": "code",
   "execution_count": 21,
   "id": "046ec656-7f53-445f-8f52-d55dfe05413a",
   "metadata": {},
   "outputs": [],
   "source": [
    "cv2.imshow(\"mask brown\", mask_green) \n",
    "cv2.waitKey(0)\n",
    "cv2.destroyAllWindows()"
   ]
  },
  {
   "cell_type": "code",
   "execution_count": 22,
   "id": "4f3783c9-c4a7-48d7-8d70-0e08495aa7be",
   "metadata": {},
   "outputs": [],
   "source": [
    "MAX_WHITE = (85, 255, 255)\n",
    "MIN_WHITE = (70, 0, 100)\n",
    "mask_white = cv2.inRange(hsv_frame, MIN_WHITE, MAX_WHITE) # TODO SELECT LARGEST PATCH OR OTHER FIX"
   ]
  },
  {
   "cell_type": "code",
   "execution_count": 23,
   "id": "84f105b5-d3f8-40ac-b85d-5674dfe7817f",
   "metadata": {},
   "outputs": [],
   "source": [
    "cv2.imshow(\"mask white\", mask_white) \n",
    "cv2.waitKey(0)\n",
    "cv2.destroyAllWindows()"
   ]
  },
  {
   "cell_type": "code",
   "execution_count": 24,
   "id": "d8df23cb-cd5c-467d-88e1-6da872b4cb78",
   "metadata": {},
   "outputs": [],
   "source": [
    "MAX_BLACK = (50, 255, 50)\n",
    "MIN_BLACK = (1, 0, 0)\n",
    "mask_black = cv2.inRange(hsv_frame, MIN_BLACK, MAX_BLACK) # TODO SELECT LARGEST PATCH OR OTHER FIX"
   ]
  },
  {
   "cell_type": "code",
   "execution_count": 25,
   "id": "5039ca95-2cd5-434b-9ce8-297ccd8ff03d",
   "metadata": {},
   "outputs": [],
   "source": [
    "cv2.imshow(\"mask black\", mask_black) \n",
    "cv2.waitKey(0)\n",
    "cv2.destroyAllWindows()"
   ]
  },
  {
   "cell_type": "code",
   "execution_count": null,
   "id": "e24dbea5-c465-49a5-b2b4-6e0d584a51e2",
   "metadata": {},
   "outputs": [],
   "source": []
  },
  {
   "cell_type": "code",
   "execution_count": 26,
   "id": "0cf35829-c036-4b27-aadd-ea1299ebda9b",
   "metadata": {},
   "outputs": [],
   "source": [
    "def matches_window(frame, color_min_lower, color_max_lower, color_min_upper, color_max_upper):\n",
    "    lower = cv2.inRange(frame, color_min_lower, color_max_lower)\n",
    "    upper = cv2.inRange(frame, color_min_upper, color_max_upper)\n",
    "\n",
    "    cv2.imshow(\"lower\", lower) \n",
    "    cv2.waitKey(0)\n",
    "    cv2.destroyAllWindows()\n",
    "\n",
    "    lower_matched_x, lower_matched_y = np.where(lower==255)\n",
    "\n",
    "    matchings = []\n",
    "    for lower_candidate_x, lower_candidate_y in zip(lower_matched_x, lower_matched_y):\n",
    "        if lower[lower_candidate_x, lower_candidate_y] > 0:\n",
    "            if upper[lower_candidate_x-1, lower_candidate_y] == 255:\n",
    "                matchings.append((lower_candidate_x-1, lower_candidate_y))\n",
    "        else: print(\"image window out of bounds\")\n",
    "    return matchings\n",
    "            "
   ]
  },
  {
   "cell_type": "code",
   "execution_count": 27,
   "id": "007e5d9f-4624-455f-85b3-23029cf54148",
   "metadata": {},
   "outputs": [],
   "source": [
    "def visualize_points(image, points, color):\n",
    "    # Takes a greyscale image and paints some points in color on top\n",
    "    image = image.copy()\n",
    "    image = cv2.cvtColor(image, cv2.COLOR_GRAY2BGR)\n",
    "    for x,y in points:\n",
    "        image[x,y] = color\n",
    "    return image"
   ]
  },
  {
   "cell_type": "code",
   "execution_count": 28,
   "id": "08d3276b-cfb4-4ebc-95c2-840cdeb6a66d",
   "metadata": {},
   "outputs": [
    {
     "data": {
      "text/plain": [
       "((110, 0, 0), (130, 255, 200))"
      ]
     },
     "execution_count": 28,
     "metadata": {},
     "output_type": "execute_result"
    }
   ],
   "source": [
    "MIN_RED, MAX_RED"
   ]
  },
  {
   "cell_type": "code",
   "execution_count": 29,
   "id": "f1e088ab-4b42-400b-8fad-283c58f97c07",
   "metadata": {},
   "outputs": [
    {
     "data": {
      "text/plain": [
       "[(419, 632),\n",
       " (419, 647),\n",
       " (420, 632),\n",
       " (420, 646),\n",
       " (420, 647),\n",
       " (421, 633),\n",
       " (421, 643),\n",
       " (421, 644),\n",
       " (421, 645),\n",
       " (421, 646),\n",
       " (422, 633),\n",
       " (422, 634),\n",
       " (422, 635),\n",
       " (422, 636),\n",
       " (422, 637),\n",
       " (422, 638),\n",
       " (422, 640),\n",
       " (422, 641),\n",
       " (422, 642),\n",
       " (422, 643),\n",
       " (422, 644),\n",
       " (423, 634),\n",
       " (423, 635),\n",
       " (423, 641),\n",
       " (423, 643),\n",
       " (423, 644),\n",
       " (424, 633),\n",
       " (424, 634),\n",
       " (424, 641),\n",
       " (424, 643),\n",
       " (425, 633),\n",
       " (425, 634),\n",
       " (425, 641),\n",
       " (426, 633),\n",
       " (426, 642),\n",
       " (426, 644),\n",
       " (427, 633),\n",
       " (427, 635),\n",
       " (427, 640),\n",
       " (427, 642),\n",
       " (427, 643),\n",
       " (427, 644),\n",
       " (428, 632),\n",
       " (428, 633),\n",
       " (428, 635),\n",
       " (428, 640),\n",
       " (428, 642),\n",
       " (428, 643),\n",
       " (428, 644),\n",
       " (429, 632),\n",
       " (429, 633),\n",
       " (429, 635),\n",
       " (429, 636),\n",
       " (429, 637),\n",
       " (429, 638),\n",
       " (429, 639),\n",
       " (429, 642),\n",
       " (429, 643),\n",
       " (429, 644),\n",
       " (430, 636),\n",
       " (432, 666),\n",
       " (433, 655),\n",
       " (433, 656),\n",
       " (433, 657),\n",
       " (433, 665),\n",
       " (433, 666),\n",
       " (434, 655),\n",
       " (434, 656),\n",
       " (434, 657),\n",
       " (434, 662),\n",
       " (434, 664),\n",
       " (434, 665),\n",
       " (434, 666),\n",
       " (435, 655),\n",
       " (435, 656),\n",
       " (435, 657),\n",
       " (435, 658),\n",
       " (435, 659),\n",
       " (435, 660),\n",
       " (435, 661),\n",
       " (435, 662),\n",
       " (435, 664),\n",
       " (435, 665),\n",
       " (435, 666),\n",
       " (435, 716),\n",
       " (436, 631),\n",
       " (436, 655),\n",
       " (436, 656),\n",
       " (436, 716),\n",
       " (436, 717),\n",
       " (436, 718),\n",
       " (436, 719),\n",
       " (436, 720),\n",
       " (437, 631),\n",
       " (437, 655),\n",
       " (437, 717),\n",
       " (437, 718),\n",
       " (438, 630),\n",
       " (438, 631),\n",
       " (438, 632),\n",
       " (438, 634),\n",
       " (439, 630),\n",
       " (439, 632),\n",
       " (439, 633),\n",
       " (439, 634),\n",
       " (440, 623),\n",
       " (440, 630),\n",
       " (440, 632),\n",
       " (440, 633),\n",
       " (440, 634),\n",
       " (440, 635),\n",
       " (441, 622),\n",
       " (441, 623),\n",
       " (441, 625),\n",
       " (441, 626),\n",
       " (441, 627),\n",
       " (441, 628),\n",
       " (441, 629),\n",
       " (441, 630),\n",
       " (441, 632),\n",
       " (441, 633),\n",
       " (441, 634),\n",
       " (441, 635),\n",
       " (442, 622),\n",
       " (442, 623),\n",
       " (442, 625),\n",
       " (442, 626),\n",
       " (442, 627),\n",
       " (442, 628),\n",
       " (442, 629),\n",
       " (442, 632),\n",
       " (442, 633),\n",
       " (443, 621),\n",
       " (443, 622),\n",
       " (443, 623),\n",
       " (443, 630),\n",
       " (443, 631),\n",
       " (443, 632),\n",
       " (443, 633),\n",
       " (443, 634),\n",
       " (444, 612),\n",
       " (444, 630),\n",
       " (444, 631),\n",
       " (445, 612),\n",
       " (445, 616),\n",
       " (445, 617),\n",
       " (445, 630),\n",
       " (445, 635),\n",
       " (446, 607),\n",
       " (446, 612),\n",
       " (446, 614),\n",
       " (446, 615),\n",
       " (446, 616),\n",
       " (446, 617),\n",
       " (446, 630),\n",
       " (446, 635),\n",
       " (447, 605),\n",
       " (447, 607),\n",
       " (447, 608),\n",
       " (447, 609),\n",
       " (447, 610),\n",
       " (447, 611),\n",
       " (447, 612),\n",
       " (447, 614),\n",
       " (447, 615),\n",
       " (447, 616),\n",
       " (447, 617),\n",
       " (447, 634),\n",
       " (447, 635),\n",
       " (447, 643),\n",
       " (448, 608),\n",
       " (448, 609),\n",
       " (448, 611),\n",
       " (448, 615),\n",
       " (448, 616),\n",
       " (448, 631),\n",
       " (448, 634),\n",
       " (448, 635),\n",
       " (448, 643),\n",
       " (449, 631),\n",
       " (449, 634),\n",
       " (449, 635),\n",
       " (449, 643),\n",
       " (450, 630),\n",
       " (450, 631),\n",
       " (450, 632),\n",
       " (450, 634),\n",
       " (450, 636),\n",
       " (450, 637),\n",
       " (450, 638),\n",
       " (450, 639),\n",
       " (450, 640),\n",
       " (450, 642),\n",
       " (450, 643),\n",
       " (450, 644),\n",
       " (451, 630),\n",
       " (451, 631),\n",
       " (451, 632),\n",
       " (451, 633),\n",
       " (451, 634),\n",
       " (451, 637),\n",
       " (451, 639),\n",
       " (451, 640),\n",
       " (451, 642),\n",
       " (451, 643),\n",
       " (451, 644),\n",
       " (452, 632),\n",
       " (452, 633),\n",
       " (452, 634),\n",
       " (452, 642),\n",
       " (453, 610),\n",
       " (453, 611),\n",
       " (453, 633),\n",
       " (453, 634),\n",
       " (453, 635),\n",
       " (454, 610),\n",
       " (454, 631),\n",
       " (454, 634),\n",
       " (454, 635),\n",
       " (454, 641),\n",
       " (455, 610),\n",
       " (455, 631),\n",
       " (455, 635),\n",
       " (455, 641),\n",
       " (455, 644),\n",
       " (455, 645),\n",
       " (455, 651),\n",
       " (456, 610),\n",
       " (456, 611),\n",
       " (456, 612),\n",
       " (456, 613),\n",
       " (456, 622),\n",
       " (456, 623),\n",
       " (456, 624),\n",
       " (456, 631),\n",
       " (456, 635),\n",
       " (456, 644),\n",
       " (456, 645),\n",
       " (456, 651),\n",
       " (456, 653),\n",
       " (457, 602),\n",
       " (457, 604),\n",
       " (457, 609),\n",
       " (457, 610),\n",
       " (457, 611),\n",
       " (457, 612),\n",
       " (457, 613),\n",
       " (457, 614),\n",
       " (457, 622),\n",
       " (457, 623),\n",
       " (457, 624),\n",
       " (457, 630),\n",
       " (457, 631),\n",
       " (457, 632),\n",
       " (457, 633),\n",
       " (457, 634),\n",
       " (457, 643),\n",
       " (457, 644),\n",
       " (457, 645),\n",
       " (457, 651),\n",
       " (457, 653),\n",
       " (457, 654),\n",
       " (457, 678),\n",
       " (457, 686),\n",
       " (457, 687),\n",
       " (458, 602),\n",
       " (458, 604),\n",
       " (458, 607),\n",
       " (458, 609),\n",
       " (458, 611),\n",
       " (458, 612),\n",
       " (458, 613),\n",
       " (458, 614),\n",
       " (458, 621),\n",
       " (458, 622),\n",
       " (458, 623),\n",
       " (458, 624),\n",
       " (458, 630),\n",
       " (458, 632),\n",
       " (458, 633),\n",
       " (458, 634),\n",
       " (458, 635),\n",
       " (458, 640),\n",
       " (458, 641),\n",
       " (458, 642),\n",
       " (458, 644),\n",
       " (458, 646),\n",
       " (458, 651),\n",
       " (458, 653),\n",
       " (458, 654),\n",
       " (458, 676),\n",
       " (458, 677),\n",
       " (458, 678),\n",
       " (458, 679),\n",
       " (458, 681),\n",
       " (458, 683),\n",
       " (458, 686),\n",
       " (458, 687),\n",
       " (459, 605),\n",
       " (459, 606),\n",
       " (459, 607),\n",
       " (459, 608),\n",
       " (459, 611),\n",
       " (459, 612),\n",
       " (459, 613),\n",
       " (459, 614),\n",
       " (459, 615),\n",
       " (459, 621),\n",
       " (459, 622),\n",
       " (459, 623),\n",
       " (459, 624),\n",
       " (459, 625),\n",
       " (459, 627),\n",
       " (459, 629),\n",
       " (459, 630),\n",
       " (459, 632),\n",
       " (459, 633),\n",
       " (459, 634),\n",
       " (459, 635),\n",
       " (459, 640),\n",
       " (459, 641),\n",
       " (459, 642),\n",
       " (459, 643),\n",
       " (459, 644),\n",
       " (459, 646),\n",
       " (459, 647),\n",
       " (459, 648),\n",
       " (459, 649),\n",
       " (459, 650),\n",
       " (459, 651),\n",
       " (459, 652),\n",
       " (459, 653),\n",
       " (459, 654),\n",
       " (459, 676),\n",
       " (459, 677),\n",
       " (459, 678),\n",
       " (459, 679),\n",
       " (459, 680),\n",
       " (459, 681),\n",
       " (459, 682),\n",
       " (459, 683),\n",
       " (459, 686),\n",
       " (459, 687),\n",
       " (460, 622),\n",
       " (460, 623),\n",
       " (460, 625),\n",
       " (460, 626),\n",
       " (460, 627),\n",
       " (460, 628),\n",
       " (460, 629),\n",
       " (460, 632),\n",
       " (460, 633),\n",
       " (460, 634),\n",
       " (460, 635),\n",
       " (460, 641),\n",
       " (460, 642),\n",
       " (460, 643),\n",
       " (460, 644),\n",
       " (460, 653),\n",
       " (460, 654),\n",
       " (460, 676),\n",
       " (460, 677),\n",
       " (460, 686),\n",
       " (468, 678),\n",
       " (468, 955),\n",
       " (468, 961),\n",
       " (469, 628),\n",
       " (469, 629),\n",
       " (469, 677),\n",
       " (469, 678),\n",
       " (469, 685),\n",
       " (469, 686),\n",
       " (469, 687),\n",
       " (469, 955),\n",
       " (469, 961),\n",
       " (470, 627),\n",
       " (470, 628),\n",
       " (470, 629),\n",
       " (470, 635),\n",
       " (470, 637),\n",
       " (470, 638),\n",
       " (470, 676),\n",
       " (470, 677),\n",
       " (470, 678),\n",
       " (470, 686),\n",
       " (470, 687),\n",
       " (470, 956),\n",
       " (470, 957),\n",
       " (470, 959),\n",
       " (470, 960),\n",
       " (470, 961),\n",
       " (471, 626),\n",
       " (471, 627),\n",
       " (471, 628),\n",
       " (471, 629),\n",
       " (471, 635),\n",
       " (471, 637),\n",
       " (471, 638),\n",
       " (471, 639),\n",
       " (471, 676),\n",
       " (471, 677),\n",
       " (471, 678),\n",
       " (471, 679),\n",
       " (471, 686),\n",
       " (471, 687),\n",
       " (471, 688),\n",
       " (471, 957),\n",
       " (471, 958),\n",
       " (471, 959),\n",
       " (471, 960),\n",
       " (472, 626),\n",
       " (472, 627),\n",
       " (472, 628),\n",
       " (472, 629),\n",
       " (472, 635),\n",
       " (472, 638),\n",
       " (472, 639),\n",
       " (472, 676),\n",
       " (472, 677),\n",
       " (472, 678),\n",
       " (472, 679),\n",
       " (472, 684),\n",
       " (472, 686),\n",
       " (472, 687),\n",
       " (473, 626),\n",
       " (473, 627),\n",
       " (473, 629),\n",
       " (473, 635),\n",
       " (473, 638),\n",
       " (473, 639),\n",
       " (473, 676),\n",
       " (473, 677),\n",
       " (473, 680),\n",
       " (473, 681),\n",
       " (473, 682),\n",
       " (473, 683),\n",
       " (473, 684),\n",
       " (473, 686),\n",
       " (473, 687),\n",
       " (474, 626),\n",
       " (474, 627),\n",
       " (474, 630),\n",
       " (474, 631),\n",
       " (474, 632),\n",
       " (474, 633),\n",
       " (474, 634),\n",
       " (474, 677),\n",
       " (474, 680),\n",
       " (475, 627),\n",
       " (475, 631),\n",
       " (486, 607),\n",
       " (486, 608),\n",
       " (486, 609),\n",
       " (486, 610),\n",
       " (486, 611),\n",
       " (487, 608),\n",
       " (487, 609),\n",
       " (487, 610),\n",
       " (487, 611),\n",
       " (529, 583),\n",
       " (529, 584),\n",
       " (529, 585),\n",
       " (529, 586),\n",
       " (529, 587),\n",
       " (530, 583),\n",
       " (530, 584),\n",
       " (530, 585),\n",
       " (530, 586),\n",
       " (530, 587)]"
      ]
     },
     "execution_count": 29,
     "metadata": {},
     "output_type": "execute_result"
    }
   ],
   "source": [
    "MAX_RED_HIGHLIGHT = (130, 255, 255)\n",
    "MIN_RED_HIGHLIGHT = (110, 0, 180)\n",
    "matchings = matches_window(hsv_frame, MIN_RED, MAX_RED, MIN_RED_HIGHLIGHT, MAX_RED_HIGHLIGHT)\n",
    "matchings"
   ]
  },
  {
   "cell_type": "code",
   "execution_count": null,
   "id": "967748d0-417c-4bfd-bfb2-e539e3ad8328",
   "metadata": {},
   "outputs": [],
   "source": []
  },
  {
   "cell_type": "code",
   "execution_count": 30,
   "id": "1735dea0-d7f4-4227-9326-8b5b79a57007",
   "metadata": {},
   "outputs": [],
   "source": [
    "red_highlights = visualize_points(mask_red, matchings, (0,0,255))"
   ]
  },
  {
   "cell_type": "code",
   "execution_count": 31,
   "id": "c02c137a-454e-43d2-a405-462af35bb8ba",
   "metadata": {},
   "outputs": [],
   "source": [
    "cv2.imshow(\"matchings\", red_highlights) \n",
    "cv2.waitKey(0)\n",
    "cv2.destroyAllWindows()"
   ]
  },
  {
   "cell_type": "code",
   "execution_count": null,
   "id": "97bef1fa-b9f2-44da-94be-c48cd91fd922",
   "metadata": {},
   "outputs": [],
   "source": []
  },
  {
   "cell_type": "code",
   "execution_count": 33,
   "id": "81e48760-a98e-4e51-b0f2-2b56335c801c",
   "metadata": {},
   "outputs": [],
   "source": [
    "# for all ball colors (if red x 15) do\n",
    "# move the window over candiate pixels or whole frame\n",
    "# get hte mean of the highlight pixels\n",
    "# return [(color, highlight_coord, image_mask), ()]"
   ]
  },
  {
   "cell_type": "code",
   "execution_count": 34,
   "id": "c9a47b2c-3b4d-474e-b403-6fc2befca607",
   "metadata": {},
   "outputs": [
    {
     "data": {
      "text/plain": [
       "(720, 1280, 3)"
      ]
     },
     "execution_count": 34,
     "metadata": {},
     "output_type": "execute_result"
    }
   ],
   "source": [
    "hsv_frame.shape"
   ]
  },
  {
   "cell_type": "code",
   "execution_count": 35,
   "id": "7c76389d-4a71-4e37-bd9c-b526ae9135af",
   "metadata": {},
   "outputs": [],
   "source": [
    "import numpy as np"
   ]
  },
  {
   "cell_type": "code",
   "execution_count": 36,
   "id": "30d8929f-f51d-4540-852f-53d3673b4033",
   "metadata": {},
   "outputs": [
    {
     "data": {
      "text/plain": [
       "array([[0]], dtype=uint8)"
      ]
     },
     "execution_count": 36,
     "metadata": {},
     "output_type": "execute_result"
    }
   ],
   "source": [
    "cv2.inRange(np.array([[[2,2,20]]]), (0,0,0), (10,10,10))"
   ]
  },
  {
   "cell_type": "code",
   "execution_count": 37,
   "id": "432657dc-5daa-45e2-b102-330478c09253",
   "metadata": {},
   "outputs": [],
   "source": [
    "def get_highlight(frame, ):\n",
    "    pass"
   ]
  },
  {
   "cell_type": "code",
   "execution_count": 38,
   "id": "518f55f7-22e4-475f-b607-eed630c540fd",
   "metadata": {},
   "outputs": [
    {
     "data": {
      "text/plain": [
       "(array([1, 3], dtype=int64),)"
      ]
     },
     "execution_count": 38,
     "metadata": {},
     "output_type": "execute_result"
    }
   ],
   "source": [
    "np.where(np.array([1,2,3, 2])==2)"
   ]
  },
  {
   "cell_type": "code",
   "execution_count": null,
   "id": "211e0fbf-08fb-4dba-9887-61e4a66354bb",
   "metadata": {},
   "outputs": [],
   "source": []
  }
 ],
 "metadata": {
  "kernelspec": {
   "display_name": "Python 3",
   "language": "python",
   "name": "python3"
  },
  "language_info": {
   "codemirror_mode": {
    "name": "ipython",
    "version": 3
   },
   "file_extension": ".py",
   "mimetype": "text/x-python",
   "name": "python",
   "nbconvert_exporter": "python",
   "pygments_lexer": "ipython3",
   "version": "3.12.2"
  }
 },
 "nbformat": 4,
 "nbformat_minor": 5
}
