{
 "cells": [
  {
   "cell_type": "code",
   "execution_count": 1,
   "id": "d248a1be-1ca7-4092-85b7-95dcf6d91d2c",
   "metadata": {},
   "outputs": [],
   "source": [
    "import cv2"
   ]
  },
  {
   "cell_type": "code",
   "execution_count": 2,
   "id": "0757d1d2-4b29-4c30-8144-0588fbc6a09e",
   "metadata": {},
   "outputs": [],
   "source": [
    "ball = cv2.imread(\"../img/ball_red.png\")"
   ]
  },
  {
   "cell_type": "code",
   "execution_count": 3,
   "id": "ebc33b94-2909-4ed3-bd6b-c691c503ca3a",
   "metadata": {},
   "outputs": [],
   "source": [
    "ball = ball[:, :, 2] # get red"
   ]
  },
  {
   "cell_type": "code",
   "execution_count": null,
   "id": "e3535473-5880-43a2-9cb2-e908fd09ce28",
   "metadata": {},
   "outputs": [],
   "source": []
  },
  {
   "cell_type": "code",
   "execution_count": 4,
   "id": "528223db-52a2-45f8-8aa8-857a7d839a36",
   "metadata": {},
   "outputs": [],
   "source": [
    "cv2.imshow(\"test\", ball)\n",
    "cv2.waitKey(3000) \n",
    "  \n",
    "# closing all open windows \n",
    "cv2.destroyAllWindows() "
   ]
  },
  {
   "cell_type": "code",
   "execution_count": 5,
   "id": "18cdf107-1293-4596-bf2a-f9b5a46709af",
   "metadata": {},
   "outputs": [],
   "source": [
    "# 40, 360 \n",
    "# 40, 915\n",
    "# 620, 230\n",
    "# 620, 1050\n",
    "# drl = 580\n",
    "# dcl = -130\n",
    "# drr = 580\n",
    "# dcr = 135"
   ]
  },
  {
   "cell_type": "code",
   "execution_count": 6,
   "id": "d38e9f31-f9bc-40be-ae0f-0d769bc31aec",
   "metadata": {},
   "outputs": [],
   "source": [
    "frame = cv2.imread(\"../frames/frame_1161_38700.0.jpg\")"
   ]
  },
  {
   "cell_type": "code",
   "execution_count": 7,
   "id": "dee69495-87ee-49d1-a5d8-472e63a75ed1",
   "metadata": {},
   "outputs": [],
   "source": [
    "red_frame = frame[:, :, 2] # get red"
   ]
  },
  {
   "cell_type": "code",
   "execution_count": 8,
   "id": "b2b92490-134e-46b5-8d81-3b2ae5b247ff",
   "metadata": {},
   "outputs": [],
   "source": [
    "cv2.imshow(\"test\", red_frame)\n",
    "cv2.waitKey(3000) \n",
    "  \n",
    "# closing all open windows \n",
    "cv2.destroyAllWindows() "
   ]
  },
  {
   "cell_type": "code",
   "execution_count": 9,
   "id": "ad22ed3d-a5cb-4023-8fda-f6c1c43c6ed5",
   "metadata": {},
   "outputs": [
    {
     "data": {
      "text/plain": [
       "array([  2,   1,   1,   2,   6,   7,   8,   6,   2,   5,   8,  11,  12,\n",
       "        16,  19,  25,  26,  24,  19,  14,  10,   2,   1,   6,  13,  21,\n",
       "        26,  31,  37,  44,  50,  53,  59,  49,  38,  32,  19,   9,   5,\n",
       "         1,   7,  16,  27,  37,  46,  55,  63,  72,  81,  86,  90,  80,\n",
       "        69,  57,  43,  28,  18,   8,   1,   7,  16,  28,  44,  59,  69,\n",
       "        78,  84, 104, 113, 109, 120, 119, 111,  94,  63,  45,  32,  19,\n",
       "         7,   7,  19,  32,  50,  69,  86,  98, 108, 112, 140, 150, 136,\n",
       "       146, 150, 145, 127,  94,  71,  53,  35,  17,   5,   4,  15,  31,\n",
       "        57,  82, 110, 121, 150, 184, 170, 202, 225, 178, 164, 167, 164,\n",
       "       156, 137, 115,  85,  57,  31,  15,   2,   8,  22,  48,  81, 110,\n",
       "       137, 145, 190, 253, 238, 254, 255, 220, 176, 181, 182, 176, 164,\n",
       "       143, 114,  85,  46,  23,   6,  13,  34,  65, 102, 136, 165, 166,\n",
       "       200, 255, 255, 255, 255, 237, 179, 187, 194, 188, 175, 157, 132,\n",
       "       102,  69,  39,  16,   2,   2,  18,  43,  80, 123, 157, 189, 183,\n",
       "       192, 255, 255, 255, 255, 255, 180, 193, 200, 191, 179, 163, 141,\n",
       "       112,  86,  50,  22,   4,   2,  20,  52,  91, 140, 178, 208, 205,\n",
       "       188, 252, 255, 255, 255, 247, 179, 192, 196, 194, 185, 161, 141,\n",
       "       121,  92,  59,  27,   6,   2,  22,  55,  96, 143, 179, 212, 215,\n",
       "       193, 212, 236, 205, 218, 203, 178, 186, 190, 188, 181, 163, 143,\n",
       "       121,  96,  65,  33,   8,   3,  24,  55,  96, 140, 173, 198, 208,\n",
       "       187, 172, 184, 168, 166, 168, 176, 174, 174, 171, 167, 152, 133,\n",
       "       107,  91,  69,  38,  11,   3,  25,  54,  94, 136, 167, 186, 190,\n",
       "       180, 172, 167, 165, 162, 163, 167, 167, 162, 160, 154, 143, 124,\n",
       "        97,  82,  65,  39,  12,   2,  24,  47,  81, 118, 151, 164, 170,\n",
       "       165, 163, 160, 158, 157, 155, 155, 153, 152, 147, 142, 131, 110,\n",
       "        81,  71,  66,  36,   9], dtype=uint8)"
      ]
     },
     "execution_count": 9,
     "metadata": {},
     "output_type": "execute_result"
    }
   ],
   "source": [
    "ball[ball>0]"
   ]
  },
  {
   "cell_type": "code",
   "execution_count": 10,
   "id": "9efdfe5b-2c36-4772-a092-d0829326cd7f",
   "metadata": {},
   "outputs": [
    {
     "data": {
      "text/plain": [
       "16"
      ]
     },
     "execution_count": 10,
     "metadata": {},
     "output_type": "execute_result"
    }
   ],
   "source": [
    "len(ball)"
   ]
  },
  {
   "cell_type": "code",
   "execution_count": 11,
   "id": "c79e8eca-13ce-4a0e-adc3-8734c21ec25b",
   "metadata": {},
   "outputs": [
    {
     "data": {
      "text/plain": [
       "163"
      ]
     },
     "execution_count": 11,
     "metadata": {},
     "output_type": "execute_result"
    }
   ],
   "source": [
    "ball[15,15]"
   ]
  },
  {
   "cell_type": "code",
   "execution_count": 12,
   "id": "7bbc967b-a142-4199-9409-28a1a2c6860b",
   "metadata": {},
   "outputs": [],
   "source": [
    "# 40, 360 \n",
    "# 40, 915\n",
    "# 620, 230\n",
    "# 620, 1050\n",
    "# drl = 580\n",
    "# dcl = -130\n",
    "# drr = 580\n",
    "# dcr = 135"
   ]
  },
  {
   "cell_type": "code",
   "execution_count": 13,
   "id": "3e5d3f21-9d6f-43a7-b585-ced9d9210cd4",
   "metadata": {},
   "outputs": [],
   "source": [
    "ball_threshold = 10\n",
    "def is_ball(row, column):\n",
    "    diff = 0\n",
    "    if red_frame[row, column] < ball_threshold:\n",
    "        return np.inf\n",
    "    for row_ball in range(len(ball)):\n",
    "        for column_ball in range(len(ball[0])):\n",
    "            if ball[row_ball, column_ball] > ball_threshold:\n",
    "                try:\n",
    "                    diff += abs(ball[row_ball, column_ball] - red_frame[row+row_ball, column+column_ball])\n",
    "                except Exception as e:\n",
    "                    pass#print(\"out of frame\", e) # out of frame\n",
    "    return diff"
   ]
  },
  {
   "cell_type": "code",
   "execution_count": 14,
   "id": "36f96fb1-ea8e-4db3-a1fa-1e756cc8a314",
   "metadata": {},
   "outputs": [
    {
     "name": "stderr",
     "output_type": "stream",
     "text": [
      "C:\\Users\\Hasco\\AppData\\Local\\Temp\\ipykernel_28788\\1406946431.py:10: RuntimeWarning: overflow encountered in scalar subtract\n",
      "  diff += abs(ball[row_ball, column_ball] - red_frame[row+row_ball, column+column_ball])\n"
     ]
    },
    {
     "name": "stdout",
     "output_type": "stream",
     "text": [
      "10000 / 400000\n",
      "20000 / 400000\n",
      "30000 / 400000\n",
      "40000 / 400000\n",
      "50000 / 400000\n",
      "60000 / 400000\n",
      "70000 / 400000\n",
      "80000 / 400000\n",
      "90000 / 400000\n",
      "100000 / 400000\n",
      "110000 / 400000\n",
      "120000 / 400000\n",
      "130000 / 400000\n",
      "140000 / 400000\n",
      "150000 / 400000\n",
      "160000 / 400000\n",
      "170000 / 400000\n",
      "180000 / 400000\n",
      "190000 / 400000\n",
      "200000 / 400000\n",
      "210000 / 400000\n",
      "220000 / 400000\n",
      "230000 / 400000\n",
      "240000 / 400000\n",
      "250000 / 400000\n",
      "260000 / 400000\n",
      "270000 / 400000\n",
      "280000 / 400000\n",
      "290000 / 400000\n",
      "300000 / 400000\n",
      "310000 / 400000\n",
      "320000 / 400000\n",
      "330000 / 400000\n",
      "340000 / 400000\n",
      "350000 / 400000\n",
      "360000 / 400000\n",
      "370000 / 400000\n",
      "380000 / 400000\n",
      "390000 / 400000\n",
      "400000 / 400000\n"
     ]
    }
   ],
   "source": [
    "import numpy as np\n",
    "ball_prob = np.full((len(red_frame), len(red_frame[0])), np.inf)\n",
    "i = 0\n",
    "for row in range(40, 620):\n",
    "    for column in range(360 - int(130/580*row), 915 + int(row * 130/580)):\n",
    "        ball_prob[row, column] = is_ball(row, column)\n",
    "        i+=1\n",
    "        if i%10000==0: \n",
    "            print(i, \"/\", \"400000\")"
   ]
  },
  {
   "cell_type": "code",
   "execution_count": 15,
   "id": "41757a5c-75bb-4db2-9850-486bf3e83e8e",
   "metadata": {},
   "outputs": [
    {
     "data": {
      "text/plain": [
       "inf"
      ]
     },
     "execution_count": 15,
     "metadata": {},
     "output_type": "execute_result"
    }
   ],
   "source": [
    "ball_prob[401, 300]"
   ]
  },
  {
   "cell_type": "code",
   "execution_count": 16,
   "id": "edfc8034-bb7e-48da-af5b-cdb38180c08f",
   "metadata": {},
   "outputs": [],
   "source": [
    "cv2.imshow(\"test\", ball_prob/60000)\n",
    "cv2.waitKey(3000) \n",
    "  \n",
    "# closing all open windows \n",
    "cv2.destroyAllWindows() "
   ]
  },
  {
   "cell_type": "code",
   "execution_count": 17,
   "id": "4802da7b-bcde-43bf-bb17-40a2fa4a1d4e",
   "metadata": {},
   "outputs": [],
   "source": [
    "red_frame\n",
    "cv2.imshow(\"test\",red_frame)\n",
    "cv2.waitKey(3000) \n",
    "  \n",
    "# closing all open windows \n",
    "cv2.destroyAllWindows() "
   ]
  },
  {
   "cell_type": "code",
   "execution_count": 18,
   "id": "5b756719-f265-43d0-a9a3-c8f2394de419",
   "metadata": {},
   "outputs": [
    {
     "data": {
      "text/plain": [
       "inf"
      ]
     },
     "execution_count": 18,
     "metadata": {},
     "output_type": "execute_result"
    }
   ],
   "source": [
    "ball_prob[666, 666]"
   ]
  },
  {
   "cell_type": "code",
   "execution_count": 19,
   "id": "1b0861a6-0ba3-4dd2-92b9-6abfab8a0531",
   "metadata": {},
   "outputs": [
    {
     "name": "stdout",
     "output_type": "stream",
     "text": [
      "[[617 779]\n",
      " [612 769]\n",
      " [ 46 692]\n",
      " ...\n",
      " [ 46 529]\n",
      " [448 718]\n",
      " [323 293]]\n"
     ]
    }
   ],
   "source": [
    "k = 22 # snooker has 22 balls\n",
    "k = 10000\n",
    "ball_prob_sorted = np.argpartition(ball_prob.flatten(), k)[:k]\n",
    "\n",
    "# The last step, Senpai! We figure out the original position of these elements in the 2D array.\n",
    "indexes = np.column_stack(np.unravel_index(ball_prob_sorted, ball_prob.shape))\n",
    "\n",
    "print(indexes)"
   ]
  },
  {
   "cell_type": "code",
   "execution_count": 20,
   "id": "90a64d1e-c9e2-4b2a-bb1d-bd5e59eeed09",
   "metadata": {},
   "outputs": [],
   "source": [
    "trichannel_red_frame = cv2.cvtColor(red_frame, cv2.COLOR_GRAY2BGR)\n",
    "\n",
    "for r,c in indexes:\n",
    "    trichannel_red_frame[r,c] = [0,0,255]\n",
    "\n",
    "\n",
    "cv2.imshow(\"test\",trichannel_red_frame)\n",
    "cv2.waitKey(4000) \n",
    "  \n",
    "# closing all open windows \n",
    "cv2.destroyAllWindows() "
   ]
  },
  {
   "cell_type": "code",
   "execution_count": 21,
   "id": "85d2507c-58a9-43da-8e63-dec543bf2e11",
   "metadata": {},
   "outputs": [],
   "source": [
    "red_frame[red_frame < 210] = 0\n",
    "red_frame_highlight = red_frame\n",
    "\n",
    "cv2.imshow(\"test\",red_frame_highlight)\n",
    "cv2.waitKey(0) \n",
    "  \n",
    "# closing all open windows \n",
    "cv2.destroyAllWindows() "
   ]
  },
  {
   "cell_type": "code",
   "execution_count": 22,
   "id": "d39a216c-2789-4045-9bb0-e3460a62cd59",
   "metadata": {},
   "outputs": [
    {
     "ename": "SyntaxError",
     "evalue": "incomplete input (2469794327.py, line 2)",
     "output_type": "error",
     "traceback": [
      "\u001b[1;36m  Cell \u001b[1;32mIn[22], line 2\u001b[1;36m\u001b[0m\n\u001b[1;33m    \u001b[0m\n\u001b[1;37m    ^\u001b[0m\n\u001b[1;31mSyntaxError\u001b[0m\u001b[1;31m:\u001b[0m incomplete input\n"
     ]
    }
   ],
   "source": [
    "def count_pixel_group(image):\n",
    "    "
   ]
  }
 ],
 "metadata": {
  "kernelspec": {
   "display_name": "Python 3",
   "language": "python",
   "name": "python3"
  },
  "language_info": {
   "codemirror_mode": {
    "name": "ipython",
    "version": 3
   },
   "file_extension": ".py",
   "mimetype": "text/x-python",
   "name": "python",
   "nbconvert_exporter": "python",
   "pygments_lexer": "ipython3",
   "version": "3.12.2"
  }
 },
 "nbformat": 4,
 "nbformat_minor": 5
}
